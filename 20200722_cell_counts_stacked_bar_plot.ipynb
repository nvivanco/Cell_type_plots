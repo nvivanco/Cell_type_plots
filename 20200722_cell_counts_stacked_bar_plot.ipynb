{
 "cells": [
  {
   "cell_type": "code",
   "execution_count": 1,
   "metadata": {},
   "outputs": [],
   "source": [
    "import os\n",
    "import numpy as np\n",
    "import pandas as pd"
   ]
  },
  {
   "cell_type": "code",
   "execution_count": 2,
   "metadata": {},
   "outputs": [],
   "source": [
    "subsample_path = '/Users/bendalllab/Desktop/Maternal_cells/500_sub'\n",
    "counts_csv = '20200521_maternal500wo_outliers_counts_per_sample_meta_clust.csv'\n",
    "counts_filepath = os.path.join(subsample_path, counts_csv)\n",
    "cell_counts = pd.read_csv(counts_filepath)  "
   ]
  },
  {
   "cell_type": "code",
   "execution_count": 5,
   "metadata": {
    "scrolled": true
   },
   "outputs": [
    {
     "data": {
      "text/plain": [
       "array(['B cells', 'Basophils', 'CD4+ T cells', 'CD8+ T cells',\n",
       "       'Eosinophils', 'Monocytes', 'NK cells', 'Neutrophils'],\n",
       "      dtype=object)"
      ]
     },
     "execution_count": 5,
     "metadata": {},
     "output_type": "execute_result"
    }
   ],
   "source": [
    "cell_counts['cell_type_v2'].unique()"
   ]
  },
  {
   "cell_type": "code",
   "execution_count": 9,
   "metadata": {},
   "outputs": [],
   "source": [
    "cell_list = cell_counts['cell_type_v2'].unique().tolist()"
   ]
  },
  {
   "cell_type": "code",
   "execution_count": 6,
   "metadata": {},
   "outputs": [
    {
     "data": {
      "text/plain": [
       "Index(['cell_type_v2', 'compartment', 'organ', 'location', 'day', 'challenge',\n",
       "       'timePI', 'cage', 'id', 'test_status', 'counts', 'sample',\n",
       "       'sample_total', 'frac_of_comp_sample', 'compartment2'],\n",
       "      dtype='object')"
      ]
     },
     "execution_count": 6,
     "metadata": {},
     "output_type": "execute_result"
    }
   ],
   "source": [
    "cell_counts.columns"
   ]
  },
  {
   "cell_type": "code",
   "execution_count": 7,
   "metadata": {},
   "outputs": [],
   "source": [
    "counts_piv = cell_counts.pivot_table(index = ['compartment2', 'day', 'cage', 'id', \n",
    "                                                    'test_status'], columns = 'cell_type_v2', \n",
    "                                     values = 'frac_of_comp_sample')\n",
    "counts_piv.reset_index(inplace = True)"
   ]
  },
  {
   "cell_type": "code",
   "execution_count": 24,
   "metadata": {},
   "outputs": [
    {
     "data": {
      "text/plain": [
       "array(['test'], dtype=object)"
      ]
     },
     "execution_count": 24,
     "metadata": {},
     "output_type": "execute_result"
    }
   ],
   "source": [
    "counts_piv['test_status'].unique()"
   ]
  },
  {
   "cell_type": "code",
   "execution_count": 10,
   "metadata": {},
   "outputs": [],
   "source": [
    "counts_piv.loc[:,cell_list] = counts_piv.loc[:,cell_list].fillna(0)\n",
    "counts_piv.loc[:, 'cage'] = counts_piv.loc[:, 'cage'].astype('category')"
   ]
  },
  {
   "cell_type": "code",
   "execution_count": 11,
   "metadata": {},
   "outputs": [],
   "source": [
    "composite = counts_piv.groupby(['compartment2']).agg(['mean', 'sem'])"
   ]
  },
  {
   "cell_type": "code",
   "execution_count": 13,
   "metadata": {},
   "outputs": [
    {
     "data": {
      "text/html": [
       "<div>\n",
       "<style scoped>\n",
       "    .dataframe tbody tr th:only-of-type {\n",
       "        vertical-align: middle;\n",
       "    }\n",
       "\n",
       "    .dataframe tbody tr th {\n",
       "        vertical-align: top;\n",
       "    }\n",
       "\n",
       "    .dataframe thead tr th {\n",
       "        text-align: left;\n",
       "    }\n",
       "\n",
       "    .dataframe thead tr:last-of-type th {\n",
       "        text-align: right;\n",
       "    }\n",
       "</style>\n",
       "<table border=\"1\" class=\"dataframe\">\n",
       "  <thead>\n",
       "    <tr>\n",
       "      <th></th>\n",
       "      <th colspan=\"2\" halign=\"left\">B cells</th>\n",
       "      <th colspan=\"2\" halign=\"left\">Basophils</th>\n",
       "      <th colspan=\"2\" halign=\"left\">CD4+ T cells</th>\n",
       "      <th colspan=\"2\" halign=\"left\">CD8+ T cells</th>\n",
       "      <th colspan=\"2\" halign=\"left\">Eosinophils</th>\n",
       "      <th colspan=\"2\" halign=\"left\">Monocytes</th>\n",
       "      <th colspan=\"2\" halign=\"left\">NK cells</th>\n",
       "      <th colspan=\"2\" halign=\"left\">Neutrophils</th>\n",
       "    </tr>\n",
       "    <tr>\n",
       "      <th></th>\n",
       "      <th>mean</th>\n",
       "      <th>sem</th>\n",
       "      <th>mean</th>\n",
       "      <th>sem</th>\n",
       "      <th>mean</th>\n",
       "      <th>sem</th>\n",
       "      <th>mean</th>\n",
       "      <th>sem</th>\n",
       "      <th>mean</th>\n",
       "      <th>sem</th>\n",
       "      <th>mean</th>\n",
       "      <th>sem</th>\n",
       "      <th>mean</th>\n",
       "      <th>sem</th>\n",
       "      <th>mean</th>\n",
       "      <th>sem</th>\n",
       "    </tr>\n",
       "    <tr>\n",
       "      <th>compartment2</th>\n",
       "      <th></th>\n",
       "      <th></th>\n",
       "      <th></th>\n",
       "      <th></th>\n",
       "      <th></th>\n",
       "      <th></th>\n",
       "      <th></th>\n",
       "      <th></th>\n",
       "      <th></th>\n",
       "      <th></th>\n",
       "      <th></th>\n",
       "      <th></th>\n",
       "      <th></th>\n",
       "      <th></th>\n",
       "      <th></th>\n",
       "      <th></th>\n",
       "    </tr>\n",
       "  </thead>\n",
       "  <tbody>\n",
       "    <tr>\n",
       "      <th>PB-EV</th>\n",
       "      <td>0.351731</td>\n",
       "      <td>0.016497</td>\n",
       "      <td>0.011579</td>\n",
       "      <td>0.001822</td>\n",
       "      <td>0.074533</td>\n",
       "      <td>0.005633</td>\n",
       "      <td>0.066053</td>\n",
       "      <td>0.004336</td>\n",
       "      <td>0.007761</td>\n",
       "      <td>0.002172</td>\n",
       "      <td>0.099431</td>\n",
       "      <td>0.008405</td>\n",
       "      <td>0.252310</td>\n",
       "      <td>0.015982</td>\n",
       "      <td>0.136602</td>\n",
       "      <td>0.010384</td>\n",
       "    </tr>\n",
       "    <tr>\n",
       "      <th>PL-EV</th>\n",
       "      <td>0.202799</td>\n",
       "      <td>0.015111</td>\n",
       "      <td>0.005934</td>\n",
       "      <td>0.001414</td>\n",
       "      <td>0.038061</td>\n",
       "      <td>0.003558</td>\n",
       "      <td>0.027840</td>\n",
       "      <td>0.002792</td>\n",
       "      <td>0.012378</td>\n",
       "      <td>0.001863</td>\n",
       "      <td>0.474100</td>\n",
       "      <td>0.024831</td>\n",
       "      <td>0.049825</td>\n",
       "      <td>0.005293</td>\n",
       "      <td>0.170715</td>\n",
       "      <td>0.017481</td>\n",
       "    </tr>\n",
       "    <tr>\n",
       "      <th>PL-T</th>\n",
       "      <td>0.070362</td>\n",
       "      <td>0.008278</td>\n",
       "      <td>0.035742</td>\n",
       "      <td>0.003678</td>\n",
       "      <td>0.021685</td>\n",
       "      <td>0.002516</td>\n",
       "      <td>0.017746</td>\n",
       "      <td>0.002225</td>\n",
       "      <td>0.022300</td>\n",
       "      <td>0.001964</td>\n",
       "      <td>0.373882</td>\n",
       "      <td>0.014818</td>\n",
       "      <td>0.078391</td>\n",
       "      <td>0.006111</td>\n",
       "      <td>0.361923</td>\n",
       "      <td>0.016448</td>\n",
       "    </tr>\n",
       "  </tbody>\n",
       "</table>\n",
       "</div>"
      ],
      "text/plain": [
       "               B cells           Basophils           CD4+ T cells            \\\n",
       "                  mean       sem      mean       sem         mean       sem   \n",
       "compartment2                                                                  \n",
       "PB-EV         0.351731  0.016497  0.011579  0.001822     0.074533  0.005633   \n",
       "PL-EV         0.202799  0.015111  0.005934  0.001414     0.038061  0.003558   \n",
       "PL-T          0.070362  0.008278  0.035742  0.003678     0.021685  0.002516   \n",
       "\n",
       "             CD8+ T cells           Eosinophils           Monocytes            \\\n",
       "                     mean       sem        mean       sem      mean       sem   \n",
       "compartment2                                                                    \n",
       "PB-EV            0.066053  0.004336    0.007761  0.002172  0.099431  0.008405   \n",
       "PL-EV            0.027840  0.002792    0.012378  0.001863  0.474100  0.024831   \n",
       "PL-T             0.017746  0.002225    0.022300  0.001964  0.373882  0.014818   \n",
       "\n",
       "              NK cells           Neutrophils            \n",
       "                  mean       sem        mean       sem  \n",
       "compartment2                                            \n",
       "PB-EV         0.252310  0.015982    0.136602  0.010384  \n",
       "PL-EV         0.049825  0.005293    0.170715  0.017481  \n",
       "PL-T          0.078391  0.006111    0.361923  0.016448  "
      ]
     },
     "execution_count": 13,
     "metadata": {},
     "output_type": "execute_result"
    }
   ],
   "source": [
    "composite.head(5)"
   ]
  },
  {
   "cell_type": "code",
   "execution_count": 14,
   "metadata": {},
   "outputs": [],
   "source": [
    "mean_sem_comp = composite.reorder_levels([1, 0], axis = 1) "
   ]
  },
  {
   "cell_type": "code",
   "execution_count": 15,
   "metadata": {},
   "outputs": [
    {
     "data": {
      "text/html": [
       "<div>\n",
       "<style scoped>\n",
       "    .dataframe tbody tr th:only-of-type {\n",
       "        vertical-align: middle;\n",
       "    }\n",
       "\n",
       "    .dataframe tbody tr th {\n",
       "        vertical-align: top;\n",
       "    }\n",
       "\n",
       "    .dataframe thead th {\n",
       "        text-align: right;\n",
       "    }\n",
       "</style>\n",
       "<table border=\"1\" class=\"dataframe\">\n",
       "  <thead>\n",
       "    <tr style=\"text-align: right;\">\n",
       "      <th></th>\n",
       "      <th>B cells</th>\n",
       "      <th>Basophils</th>\n",
       "      <th>CD4+ T cells</th>\n",
       "      <th>CD8+ T cells</th>\n",
       "      <th>Eosinophils</th>\n",
       "      <th>Monocytes</th>\n",
       "      <th>NK cells</th>\n",
       "      <th>Neutrophils</th>\n",
       "    </tr>\n",
       "    <tr>\n",
       "      <th>compartment2</th>\n",
       "      <th></th>\n",
       "      <th></th>\n",
       "      <th></th>\n",
       "      <th></th>\n",
       "      <th></th>\n",
       "      <th></th>\n",
       "      <th></th>\n",
       "      <th></th>\n",
       "    </tr>\n",
       "  </thead>\n",
       "  <tbody>\n",
       "    <tr>\n",
       "      <th>PB-EV</th>\n",
       "      <td>0.351731</td>\n",
       "      <td>0.011579</td>\n",
       "      <td>0.074533</td>\n",
       "      <td>0.066053</td>\n",
       "      <td>0.007761</td>\n",
       "      <td>0.099431</td>\n",
       "      <td>0.252310</td>\n",
       "      <td>0.136602</td>\n",
       "    </tr>\n",
       "    <tr>\n",
       "      <th>PL-EV</th>\n",
       "      <td>0.202799</td>\n",
       "      <td>0.005934</td>\n",
       "      <td>0.038061</td>\n",
       "      <td>0.027840</td>\n",
       "      <td>0.012378</td>\n",
       "      <td>0.474100</td>\n",
       "      <td>0.049825</td>\n",
       "      <td>0.170715</td>\n",
       "    </tr>\n",
       "    <tr>\n",
       "      <th>PL-T</th>\n",
       "      <td>0.070362</td>\n",
       "      <td>0.035742</td>\n",
       "      <td>0.021685</td>\n",
       "      <td>0.017746</td>\n",
       "      <td>0.022300</td>\n",
       "      <td>0.373882</td>\n",
       "      <td>0.078391</td>\n",
       "      <td>0.361923</td>\n",
       "    </tr>\n",
       "  </tbody>\n",
       "</table>\n",
       "</div>"
      ],
      "text/plain": [
       "               B cells  Basophils  CD4+ T cells  CD8+ T cells  Eosinophils  \\\n",
       "compartment2                                                                 \n",
       "PB-EV         0.351731   0.011579      0.074533      0.066053     0.007761   \n",
       "PL-EV         0.202799   0.005934      0.038061      0.027840     0.012378   \n",
       "PL-T          0.070362   0.035742      0.021685      0.017746     0.022300   \n",
       "\n",
       "              Monocytes  NK cells  Neutrophils  \n",
       "compartment2                                    \n",
       "PB-EV          0.099431  0.252310     0.136602  \n",
       "PL-EV          0.474100  0.049825     0.170715  \n",
       "PL-T           0.373882  0.078391     0.361923  "
      ]
     },
     "execution_count": 15,
     "metadata": {},
     "output_type": "execute_result"
    }
   ],
   "source": [
    "mean_sem_comp['mean']"
   ]
  },
  {
   "cell_type": "code",
   "execution_count": 16,
   "metadata": {},
   "outputs": [],
   "source": [
    "mean_sem_comp.sort_index(axis = 0, ascending = False, inplace = True)\n",
    "composite_T = mean_sem_comp['mean'].transpose()\n",
    "composite_T.reset_index(inplace = True)\n",
    "composite_T.sum(axis = 0)\n",
    "int_to_cell = composite_T[['index']].to_dict()"
   ]
  },
  {
   "cell_type": "code",
   "execution_count": 17,
   "metadata": {},
   "outputs": [
    {
     "data": {
      "text/html": [
       "<div>\n",
       "<style scoped>\n",
       "    .dataframe tbody tr th:only-of-type {\n",
       "        vertical-align: middle;\n",
       "    }\n",
       "\n",
       "    .dataframe tbody tr th {\n",
       "        vertical-align: top;\n",
       "    }\n",
       "\n",
       "    .dataframe thead th {\n",
       "        text-align: right;\n",
       "    }\n",
       "</style>\n",
       "<table border=\"1\" class=\"dataframe\">\n",
       "  <thead>\n",
       "    <tr style=\"text-align: right;\">\n",
       "      <th>compartment2</th>\n",
       "      <th>index</th>\n",
       "      <th>PL-T</th>\n",
       "      <th>PL-EV</th>\n",
       "      <th>PB-EV</th>\n",
       "    </tr>\n",
       "  </thead>\n",
       "  <tbody>\n",
       "    <tr>\n",
       "      <th>0</th>\n",
       "      <td>B cells</td>\n",
       "      <td>0.070362</td>\n",
       "      <td>0.202799</td>\n",
       "      <td>0.351731</td>\n",
       "    </tr>\n",
       "    <tr>\n",
       "      <th>1</th>\n",
       "      <td>Basophils</td>\n",
       "      <td>0.035742</td>\n",
       "      <td>0.005934</td>\n",
       "      <td>0.011579</td>\n",
       "    </tr>\n",
       "    <tr>\n",
       "      <th>2</th>\n",
       "      <td>CD4+ T cells</td>\n",
       "      <td>0.021685</td>\n",
       "      <td>0.038061</td>\n",
       "      <td>0.074533</td>\n",
       "    </tr>\n",
       "    <tr>\n",
       "      <th>3</th>\n",
       "      <td>CD8+ T cells</td>\n",
       "      <td>0.017746</td>\n",
       "      <td>0.027840</td>\n",
       "      <td>0.066053</td>\n",
       "    </tr>\n",
       "    <tr>\n",
       "      <th>4</th>\n",
       "      <td>Eosinophils</td>\n",
       "      <td>0.022300</td>\n",
       "      <td>0.012378</td>\n",
       "      <td>0.007761</td>\n",
       "    </tr>\n",
       "  </tbody>\n",
       "</table>\n",
       "</div>"
      ],
      "text/plain": [
       "compartment2         index      PL-T     PL-EV     PB-EV\n",
       "0                  B cells  0.070362  0.202799  0.351731\n",
       "1                Basophils  0.035742  0.005934  0.011579\n",
       "2             CD4+ T cells  0.021685  0.038061  0.074533\n",
       "3             CD8+ T cells  0.017746  0.027840  0.066053\n",
       "4              Eosinophils  0.022300  0.012378  0.007761"
      ]
     },
     "execution_count": 17,
     "metadata": {},
     "output_type": "execute_result"
    }
   ],
   "source": [
    "composite_T.head(5)"
   ]
  },
  {
   "cell_type": "code",
   "execution_count": 18,
   "metadata": {},
   "outputs": [
    {
     "data": {
      "text/plain": [
       "{'index': {0: 'B cells',\n",
       "  1: 'Basophils',\n",
       "  2: 'CD4+ T cells',\n",
       "  3: 'CD8+ T cells',\n",
       "  4: 'Eosinophils',\n",
       "  5: 'Monocytes',\n",
       "  6: 'NK cells',\n",
       "  7: 'Neutrophils'}}"
      ]
     },
     "execution_count": 18,
     "metadata": {},
     "output_type": "execute_result"
    }
   ],
   "source": [
    "int_to_cell"
   ]
  },
  {
   "cell_type": "code",
   "execution_count": 20,
   "metadata": {},
   "outputs": [],
   "source": [
    "bars_dict = {}\n",
    "for cell_id in composite_T.index:\n",
    "    bars_dict[cell_id] = composite_T.iloc[cell_id, 1:]\n",
    "height_dict = {}\n",
    "for cell_id in composite_T.index:\n",
    "    height_dict[cell_id] = composite_T.iloc[cell_id+1:,1:].sum().tolist()"
   ]
  },
  {
   "cell_type": "code",
   "execution_count": 22,
   "metadata": {},
   "outputs": [],
   "source": [
    "cell_color_dict = {'B cells': '#FFFF00',\n",
    " 'CD4+ T cells': '#FF34FF',\n",
    " 'CD8+ T cells': '#FF4A46',\n",
    " 'Eosinophils': '#A30059',\n",
    " 'Basophils': '#b98cdb',\n",
    " 'Monocytes': '#552de3',\n",
    " 'NK cells': '#8FB0FF',\n",
    " 'Neutrophils': '#8393a3',                   \n",
    " 'DCs': '#1CE6FF'}"
   ]
  },
  {
   "cell_type": "code",
   "execution_count": 23,
   "metadata": {},
   "outputs": [
    {
     "data": {
      "image/png": "[encoded data removed]",
      "text/plain": [
       "<Figure size 432x288 with 1 Axes>"
      ]
     },
     "metadata": {
      "needs_background": "light"
     },
     "output_type": "display_data"
    }
   ],
   "source": [
    "# The position of the bars on the x-axis\n",
    "r = [0,0.2,0.4]\n",
    " \n",
    "# Names of group and bar width\n",
    "names = ['TIS','EV','PB']\n",
    "barWidth = 0.10\n",
    "\n",
    "for cell_id in composite_T.index:\n",
    "    plt.bar(r, bars_dict[cell_id], color = cell_color_dict[int_to_cell['index'][cell_id]], bottom = height_dict[cell_id], width=barWidth, linewidth = 0)\n",
    "plt.xticks(r, names);\n",
    "plt.legend(composite_T['index'], bbox_to_anchor=(1.05, 1), loc='upper left', \n",
    "               borderaxespad=0., ncol=1)\n",
    "sns.despine(right = True, top = True)"
   ]
  },
  {
   "cell_type": "code",
   "execution_count": null,
   "metadata": {},
   "outputs": [],
   "source": []
  }
 ],
 "metadata": {
  "kernelspec": {
   "display_name": "Python 3",
   "language": "python",
   "name": "python3"
  },
  "language_info": {
   "codemirror_mode": {
    "name": "ipython",
    "version": 3
   },
   "file_extension": ".py",
   "mimetype": "text/x-python",
   "name": "python",
   "nbconvert_exporter": "python",
   "pygments_lexer": "ipython3",
   "version": "3.7.2"
  }
 },
 "nbformat": 4,
 "nbformat_minor": 2
}
